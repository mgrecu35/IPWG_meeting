{
 "cells": [
  {
   "cell_type": "markdown",
   "id": "744dba03-b591-42f3-8955-cb6c07a8c690",
   "metadata": {},
   "source": [
    "### A methodology to estimate cloud ice from combined space borne lidar and Ku-band radar observations\n",
    "\n",
    "Mircea Grecu and John Yorks\n",
    "\n",
    "#### 1. _Introduction_\n",
    "The importance of ice clouds in Earth's radiative budget has been long recognized (Liou 1986).  As a consequence, they have been systematically investigated and signficant effort was devoted to their representation in global circulation models. Despite this, clouds in general and ice clouds in particular remain one of the greatest source of uncertainty in climate projections (Schneider et al. 2017). To better understand their properties and relation to atmospheric dynamics, various type of satellite passive and active instruments have been developed and deployed in space (Stephens et al. 2002; Platnick et al. 2003). Although these instruments, collected variable information that enable insight into physical processes and the derivation of reliable climatologies, it is expected that new satellite missions featuring new instruments or combinations of instruments provide new insights into the properties of ice. The NASA Atmospheric Observing System (AOS), formulated in alignment with the 2017-2027 decadal survey (DS) of Earth Science and Applications from Space by the National Academies of Sciences, Engineering, and Medicine (Braun et al. 2022) is such a mission. Specifically, AOS is expected to feature instruments capable of providing at the same time information on aerosol, clouds, and precipitation (as well as their dynamics). To achieve its objective, AOS will rely on a satellite in polar orbit and two satellites in inclined orbits (Braun et al. 2022).   The satellites in the inclined orbits are expected to carry, among other instruments, a Ku-band radar and a backscatter lidar.  Although, from the characterization of ice Particle Size Distributions (PSD) perspective, a Ku-band radar is not the optimal complement of a backscatter lidar, it is, nevertheless an extremely insightful instrument as it enables the study of cloud anvils in conjunction with the associated convective phenomena.\n",
    "\n",
    "In this study, we formulate a methodology to estimate cloud ice properties such as the ice water content and mass mean diameter from combined backscatter lidar and Ku-band radar observations. The estimation methodology is similar to that of Grecu et al. (2018) and consists of derivation of a large database of simulated backscatter lidar and Ku-band radar observations.\n",
    "\n"
   ]
  },
  {
   "cell_type": "markdown",
   "id": "465e1eaf-dc80-4747-aa3e-53d0195f1f32",
   "metadata": {},
   "source": [
    "#### References\n",
    "\n",
    "* Braun and co-authors, 2022. Aerosol, Cloud, Convection, and Precipitation\n",
    "(ACCP) Science & Applications https://aos.gsfc.nasa.gov/docs/ACCP_Science_Narrative-(Mar2022).pdf\n",
    "* Grecu, M., Tian, L., Heymsfield, G. M., Tokay, A., Olson, W. S., Heymsfield, A. J., & Bansemer, A. (2018). Nonparametric Methodology to Estimate Precipitating Ice from Multiple-Frequency Radar Reflectivity Observations, Journal of Applied Meteorology and Climatology, 57(11), 2605-2622. Retrieved Jun 30, 2022, from https://journals.ametsoc.org/view/journals/apme/57/11/jamc-d-18-0036.1.xml\n",
    "* Liou, K.N., 1986. Influence of cirrus clouds on weather and climate processes: A global perspective. Monthly Weather Review, 114(6), pp.1167-1199.\n",
    "* Platnick, S., King, M.D., Ackerman, S.A., Menzel, W.P., Baum, B.A., Riédi, J.C. and Frey, R.A., 2003. The MODIS cloud products: Algorithms and examples from Terra. IEEE Transactions on geoscience and Remote Sensing, 41(2), pp.459-473.\n",
    "* Schneider, T., Teixeira, J., Bretherton, C.S., Brient, F., Pressel, K.G., Schär, C. and Siebesma, A.P., 2017. Climate goals and computing the future of clouds. Nature Climate Change, 7(1), pp.3-5.\n",
    "* Stephens, Graeme L.; Vane, Deborah G.; Boain, Ronald J.; Mace, Gerald G.; Sassen, Kenneth; Wang, Zhien; Illingworth, Anthony J.; O'connor, Ewan J.; Rossow, William B.; Durden, Stephen L.; Miller, Steven D.; Austin, Richard T.; Benedetti, Angela; Mitrescu, Cristian (2002). \"THE CLOUDSAT MISSION AND THE A-TRAIN: A New Dimension of Space-Based Observations of Clouds and Precipitation\". Bulletin of the American Meteorological Society. 83 (12): 1771–1790. doi:10.1175/BAMS-83-12-1771. ISSN 0003-0007.\n"
   ]
  },
  {
   "cell_type": "code",
   "execution_count": null,
   "id": "6cd60d2b-b846-455a-bc3e-a72de4b1f352",
   "metadata": {},
   "outputs": [],
   "source": []
  }
 ],
 "metadata": {
  "kernelspec": {
   "display_name": "Python 3 (ipykernel)",
   "language": "python",
   "name": "python3"
  },
  "language_info": {
   "codemirror_mode": {
    "name": "ipython",
    "version": 3
   },
   "file_extension": ".py",
   "mimetype": "text/x-python",
   "name": "python",
   "nbconvert_exporter": "python",
   "pygments_lexer": "ipython3",
   "version": "3.8.12"
  }
 },
 "nbformat": 4,
 "nbformat_minor": 5
}
