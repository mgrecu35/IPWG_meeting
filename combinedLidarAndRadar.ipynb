{
 "cells": [
  {
   "cell_type": "markdown",
   "id": "744dba03-b591-42f3-8955-cb6c07a8c690",
   "metadata": {},
   "source": [
    "### Estimation of cloud ice from combined space borne lidar and Ku-band radar observations\n",
    "\n",
    "Mircea Grecu and John Yorks\n",
    "\n",
    "#### 1. _Introduction_\n",
    "The importance of ice clouds in Earth's radiative budget has been long recognized (Liou 1986).  As a consequence, they have been systematically investigated and signficant effort was devoted to their representation in global circulation models. Despite this, clouds in general and ice clouds in particular remain one of the greatest source of uncertainty in climate projections (Schneider et al. 2017). To better understand their properties and relation to atmospheric dynamics, various type of satellite passive and active instruments have been developed and deployed in space (Stephens et al. 2002; Platnick et al. 2003). Although these instruments, collected variable information that enable insight into physical processes and the derivation of reliable climatologies, it is expected that new satellite missions featuring new instruments or combinations of instruments provide new insights into the properties of ice. The NASA Atmospheric Observing System (AOS), formulated in alignment with the 2017-2027 decadal survey (DS) of Earth Science and Applications from Space by the National Academies of Sciences, Engineering, and Medicine (Braun et al. 2022) is such a mission. Specifically, AOS is expected to feature instruments capable of providing at the same time information on aerosol, clouds, and precipitation (as well as their dynamics). To achieve its objective, AOS will rely on a satellite in polar orbit and two satellites in inclined orbits (Braun et al. 2022).   The satellites in the inclined orbits are expected to carry, among other instruments, a Ku-band radar and a backscatter lidar.  Although, from the characterization of ice Particle Size Distributions (PSD) perspective, a Ku-band radar is not the optimal complement of a backscatter lidar, it is, nevertheless an extremely insightful instrument as it enables the study of cloud anvils in conjunction with the associated convective phenomena.\n",
    "\n",
    "In this study, we investigate to estimation of ice cloud properties such as the ice water content and mass mean diameter from combined backscatter lidar and Ku-band radar observations. The estimation methodology is similar to that of Grecu et al. (2018) and consists of derivation of a large database of simulated backscatter lidar and Ku-band radar observations. The database derivation is achieved through the generation of realistic ice clouds and the simulation of the associated backscatter lidar and Ku-band radar observations using accurate physical models. A fast search procedure is carried out to identify entries in the database characterized by simulated observations simular to the actual observations and a statistical analysis procedure is applied to these entries derive ice property estimates (Grecu et al. 2018).  To account for attenuation and multiple scattering addtional numerical features are included in the search and statistical feature.  This will be explained in Section 2. Although various combined lidar-radar estimation already exist, e.g. Donovan et al. (2001), Mitrescu et al. (2005), Delanoe and Hogan (2011), \n",
    "Tinel et al. (2005), the database approach is adopted in this study due to its robustness and relative simplicity.  Moreover, this approach enables rigorous uncertainty quantifications, which makes the inclusion of additional observations in the estimation framework straightfoward. Its drawbacks are related to its \"lazy\" nature (Aha 2013) that does not allow for compact representation of physical knowledge into parameterized models, but its storage into a database.  The evaluation of the retrieval framework and the value of combined backscatter lidar and Ku-band radar observations is carried out using a cross-validation technique (Bates et al. 2021).\n",
    "\n",
    "The study is organized as follows.  Section 2 contains the description of the estimation and cross-validation methodologies.  Results are presented in Section 3 and a summary and concluding discussions are given in Section 4.\n",
    "\n",
    "#### 2. _Estimation and evaluation methodologies_\n",
    "\n",
    "As mentioned in section, several methodologies to estimate ice properties from combined lidar-radar observations exist.  Some of these, e.g. Donovan et al. (2001) and Tinel et al. (2005) rely on attenuation correction procedures derived from the integration of the differential equations describing the describing the variation of the observed lidar backscatter with range. Other approaches, e.g. Mitrescu et al. (2005) and Delanoe and Hogan (2011), are based on \"on-the-fly\" optimization methods that maximize the agreement between physical models that compute lidar and radar observations as a function of various ice property and actual observations while penalizing discrepancies between the estimates and their climatology. An alternative to on-the-fly optimization is the generation of a large database of ice clouds and associated lidar and radar observations prior to the application of estimation algorithm and the derivation of the optimal estimates through an efficient database search.  The methodology, which was applied to, similar problems before, e.g. Kummerow et al. (2015), Grecu et al. (2018), is adopted in this study to investigate the combined value of backscatter lidar and Ku-band radar observations in quantifying ice cloud properties. For the generation of the synthetic observations, we use a stochastic ice cloud model developed by Hogan and Key (2005). This is described next.\n",
    "\n",
    "##### 2.1.  ___Stochastic cloud model and synthetic observations___\n",
    "\n",
    "To generate the ice clouds need in the computation of the lidar and radar observations, the three dimensional 3D stochastic cloud model of Hogan and Kew is used. The model generates 3D ice water content random fields as a function of a set of multiple pieces of information that describe: the vertical distribution of ice water content, the wind shear, and the vertical distribution of the power spectrum component.  These ice-water content information may be derived from cloud radar observations and wind shear iformation may be derived from numerical weather prediction models (our sounding observations). It should be mentioned that instead of using a statistical cloud model driven by information derived from radar observations, one may directly radar observations.  Nevertheless, there are benefits in using a model rather than observations. Specifically, the models enable the generation of a large number of ice water content fields under various assumptions regarding the wind shear and horizontal exponent of the power spectrum, which mitigates sampling issues that might otherwise occur. \n",
    "\n"
   ]
  },
  {
   "cell_type": "markdown",
   "id": "465e1eaf-dc80-4747-aa3e-53d0195f1f32",
   "metadata": {},
   "source": [
    "#### References\n",
    "\n",
    "*  Aha, D.(29 June 2013). Lazy Learning (illustrated ed.). Springer Science & Business Media, 2013. p. 424. ISBN 978-9401720533\n",
    "* Bates, S., Hastie, T. and Tibshirani, R., 2021. Cross-validation: what does it estimate and how well does it do it?. arXiv preprint arXiv:2104.00673.\n",
    "* Braun and co-authors, 2022. Aerosol, Cloud, Convection, and Precipitation\n",
    "(ACCP) Science & Applications https://aos.gsfc.nasa.gov/docs/ACCP_Science_Narrative-(Mar2022).pdf\n",
    "* Delanoë, J. and Hogan, R.J., 2010. Combined CloudSat‐CALIPSO‐MODIS retrievals of the properties of ice clouds. Journal of Geophysical Research: Atmospheres, 115(D4).\n",
    "* Donovan, D. P., A. C. A. P. van Lammeren, H. W. J. Russchenberg,A. Apituley, R. J. Hogan, P. N. Francis, J. Testud, J. Pelon, M. Quante,and J. W. F. Goddard (2001), Cloud effective particles size and watercontent profile retrievals using ombined radar and lidar observations:2. Comparison with IR radiometer and in‐situ measurements of iceclouds,J. Geophys. Res.,106, 27,449–27,464.\n",
    "* Grecu, M., Tian, L., Heymsfield, G. M., Tokay, A., Olson, W. S., Heymsfield, A. J., & Bansemer, A. (2018). Nonparametric Methodology to Estimate Precipitating Ice from Multiple-Frequency Radar Reflectivity Observations, Journal of Applied Meteorology and Climatology, 57(11), 2605-2622. Retrieved Jun 30, 2022, from https://journals.ametsoc.org/view/journals/apme/57/11/jamc-d-18-0036.1.xml\n",
    "* Liou, K.N., 1986. Influence of cirrus clouds on weather and climate processes: A global perspective. Monthly Weather Review, 114(6), pp.1167-1199.\n",
    "* Mitrescu, C., J. M. Haynes, G. L. Stephens, S. D. Miller, G. M. Heymsfield,and M. J. McGill (2005), Cirrus cloud optical, microphysical, and radia-tive properties observed during the crystal‐face experiment: A lidar‐radarretrieval system,J. Geophys. Res.,110, D09208, doi:10.1029/2004JD005605\n",
    "* Platnick, S., King, M.D., Ackerman, S.A., Menzel, W.P., Baum, B.A., Riédi, J.C. and Frey, R.A., 2003. The MODIS cloud products: Algorithms and examples from Terra. IEEE Transactions on geoscience and Remote Sensing, 41(2), pp.459-473.\n",
    "* Schneider, T., Teixeira, J., Bretherton, C.S., Brient, F., Pressel, K.G., Schär, C. and Siebesma, A.P., 2017. Climate goals and computing the future of clouds. Nature Climate Change, 7(1), pp.3-5.\n",
    "* Stephens, Graeme L.; Vane, Deborah G.; Boain, Ronald J.; Mace, Gerald G.; Sassen, Kenneth; Wang, Zhien; Illingworth, Anthony J.; O'connor, Ewan J.; Rossow, William B.; Durden, Stephen L.; Miller, Steven D.; Austin, Richard T.; Benedetti, Angela; Mitrescu, Cristian (2002). \"THE CLOUDSAT MISSION AND THE A-TRAIN: A New Dimension of Space-Based Observations of Clouds and Precipitation\". Bulletin of the American Meteorological Society. 83 (12): 1771–1790. doi:10.1175/BAMS-83-12-1771. ISSN 0003-0007.\n",
    "* Tinel, C., J. Testud, R. J. Hogan, A. Protat, J. Delanoë, and D. Bouniol(2005), The retrieval of ice cloud properties from cloud radar and lidarsynergy,J. Appl. Meteorol.,44, 860–875.\n"
   ]
  },
  {
   "cell_type": "code",
   "execution_count": null,
   "id": "6cd60d2b-b846-455a-bc3e-a72de4b1f352",
   "metadata": {},
   "outputs": [],
   "source": []
  }
 ],
 "metadata": {
  "kernelspec": {
   "display_name": "Python 3 (ipykernel)",
   "language": "python",
   "name": "python3"
  },
  "language_info": {
   "codemirror_mode": {
    "name": "ipython",
    "version": 3
   },
   "file_extension": ".py",
   "mimetype": "text/x-python",
   "name": "python",
   "nbconvert_exporter": "python",
   "pygments_lexer": "ipython3",
   "version": "3.8.12"
  }
 },
 "nbformat": 4,
 "nbformat_minor": 5
}
